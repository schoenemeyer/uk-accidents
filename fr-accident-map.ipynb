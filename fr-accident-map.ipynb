{
 "cells": [
  {
   "cell_type": "code",
   "execution_count": null,
   "metadata": {},
   "outputs": [],
   "source": [
    "!pip3 install geopandas\n",
    "!pip3 install descartes\n",
    "!pip3 install mplleaflet"
   ]
  },
  {
   "cell_type": "code",
   "execution_count": 20,
   "metadata": {},
   "outputs": [],
   "source": [
    "import numpy as np\n",
    "import pandas as pd\n",
    "import geopandas as gpd\n",
    "\n",
    "def load_data():\n",
    "    \"\"\"Loads the CSV files and appends them into a single DataFrame\"\"\"\n",
    "    column_types = {'Num_Acc': np.string_, 'jour': np.string_}\n",
    "    fr2018 = pd.read_csv(\"data/caracteristiques-2018.csv\", dtype=column_types)\n",
    "#   return uk2014.append(uk2015)\n",
    "    return fr2018"
   ]
  },
  {
   "cell_type": "code",
   "execution_count": 21,
   "metadata": {},
   "outputs": [
    {
     "name": "stdout",
     "output_type": "stream",
     "text": [
      "done\n"
     ]
    }
   ],
   "source": [
    "from shapely.geometry import Point\n",
    "from functools import partial\n",
    "from shapely.ops import transform\n",
    "import pyproj\n",
    "\n",
    "def buffer_in_meters(lng, lat, radius):\n",
    "    proj_meters = pyproj.Proj(init='epsg:3857')\n",
    "    proj_latlng = pyproj.Proj(init='epsg:4326')\n",
    "    \n",
    "    project_to_meters = partial(pyproj.transform, proj_latlng, proj_meters)\n",
    "    project_to_latlng = partial(pyproj.transform, proj_meters, proj_latlng)\n",
    "    \n",
    "    pt_latlng = Point(lng, lat)\n",
    "    pt_meters = transform(project_to_meters, pt_latlng)\n",
    "    \n",
    "    buffer_meters = pt_meters.buffer(radius)\n",
    "    buffer_latlng = transform(project_to_latlng, buffer_meters)\n",
    "    return buffer_latlng\n",
    "print(\"done\")"
   ]
  },
  {
   "cell_type": "code",
   "execution_count": 22,
   "metadata": {
    "scrolled": true
   },
   "outputs": [
    {
     "name": "stdout",
     "output_type": "stream",
     "text": [
      "Data loaded\n",
      "        Num_Acc  an  mois jour  hrmn  lum  agg  int  atm  col  com  \\\n",
      "0  201800000001  18     1   24  1505    1    1    4  1.0  1.0    5   \n",
      "1  201800000002  18     2   12  1015    1    2    7  7.0  7.0   11   \n",
      "2  201800000003  18     3    4  1135    1    2    3  1.0  7.0  477   \n",
      "3  201800000004  18     5    5  1735    1    2    1  7.0  3.0   52   \n",
      "4  201800000005  18     6   26  1605    1    2    1  1.0  3.0  477   \n",
      "\n",
      "                        adr gps        lat      long  dep  \n",
      "0    route des Ansereuilles   M  5055737.0  294992.0  590  \n",
      "1  Place du g�n�ral de Gaul   M  5052936.0  293151.0  590  \n",
      "2            Rue  nationale   M  5051243.0  291714.0  590  \n",
      "3       30 rue Jules Guesde   M  5051974.0  289123.0  590  \n",
      "4        72 rue Victor Hugo   M  5051607.0  290605.0  590  \n"
     ]
    }
   ],
   "source": [
    "fr_acc = load_data()\n",
    "print(\"Data loaded\")\n",
    "print(fr_acc.head())"
   ]
  },
  {
   "cell_type": "code",
   "execution_count": 23,
   "metadata": {},
   "outputs": [],
   "source": [
    "def concave_hull(points, k):\n",
    "    pass"
   ]
  },
  {
   "cell_type": "code",
   "execution_count": 24,
   "metadata": {},
   "outputs": [
    {
     "name": "stdout",
     "output_type": "stream",
     "text": [
      "        Num_Acc  an  mois jour  hrmn  lum  agg  int  atm  col  com  \\\n",
      "0  201800000001  18     1   24  1505    1    1    4  1.0  1.0    5   \n",
      "1  201800000002  18     2   12  1015    1    2    7  7.0  7.0   11   \n",
      "2  201800000003  18     3    4  1135    1    2    3  1.0  7.0  477   \n",
      "3  201800000004  18     5    5  1735    1    2    1  7.0  3.0   52   \n",
      "4  201800000005  18     6   26  1605    1    2    1  1.0  3.0  477   \n",
      "\n",
      "                        adr gps       lat     long  dep  \n",
      "0    route des Ansereuilles   M  50.55737  2.94992  590  \n",
      "1  Place du g�n�ral de Gaul   M  50.52936  2.93151  590  \n",
      "2            Rue  nationale   M  50.51243  2.91714  590  \n",
      "3       30 rue Jules Guesde   M  50.51974  2.89123  590  \n",
      "4        72 rue Victor Hugo   M  50.51607  2.90605  590  \n"
     ]
    }
   ],
   "source": [
    "fr_acc.lat = fr_acc.lat/100000\n",
    "fr_acc.long = fr_acc.long/100000\n",
    "print(fr_acc.head())"
   ]
  },
  {
   "cell_type": "code",
   "execution_count": 27,
   "metadata": {},
   "outputs": [
    {
     "name": "stdout",
     "output_type": "stream",
     "text": [
      "invalid rows dropped\n",
      "        Num_Acc  an  mois jour  hrmn  lum  agg  int  atm  col  com  \\\n",
      "0  201800000001  18     1   24  1505    1    1    4  1.0  1.0    5   \n",
      "1  201800000002  18     2   12  1015    1    2    7  7.0  7.0   11   \n",
      "2  201800000003  18     3    4  1135    1    2    3  1.0  7.0  477   \n",
      "3  201800000004  18     5    5  1735    1    2    1  7.0  3.0   52   \n",
      "4  201800000005  18     6   26  1605    1    2    1  1.0  3.0  477   \n",
      "\n",
      "                        adr gps       lat     long  dep  \n",
      "0    route des Ansereuilles   M  50.55737  2.94992  590  \n",
      "1  Place du g�n�ral de Gaul   M  50.52936  2.93151  590  \n",
      "2            Rue  nationale   M  50.51243  2.91714  590  \n",
      "3       30 rue Jules Guesde   M  50.51974  2.89123  590  \n",
      "4        72 rue Victor Hugo   M  50.51607  2.90605  590  \n"
     ]
    }
   ],
   "source": [
    "# Drop invalid rows\n",
    "\n",
    "fr_acc.dropna()\n",
    "\n",
    "fr_acc = fr_acc.loc[fr_acc.lat <=  90.0]\n",
    "fr_acc = fr_acc.loc[fr_acc.lat >= -90.0]\n",
    "\n",
    "fr_acc = fr_acc.loc[fr_acc.long <=  180.0]\n",
    "fr_acc = fr_acc.loc[fr_acc.long >= -180.0]\n",
    "print(\"invalid rows dropped\")\n",
    "print(fr_acc.head())"
   ]
  },
  {
   "cell_type": "code",
   "execution_count": 36,
   "metadata": {},
   "outputs": [
    {
     "name": "stdout",
     "output_type": "stream",
     "text": [
      "        Num_Acc  an  mois jour  hrmn  lum  agg  int  atm  col  com  \\\n",
      "0  201800000001  18     1   24  1505    1    1    4  1.0  1.0    5   \n",
      "1  201800000002  18     2   12  1015    1    2    7  7.0  7.0   11   \n",
      "2  201800000003  18     3    4  1135    1    2    3  1.0  7.0  477   \n",
      "3  201800000004  18     5    5  1735    1    2    1  7.0  3.0   52   \n",
      "4  201800000005  18     6   26  1605    1    2    1  1.0  3.0  477   \n",
      "\n",
      "                        adr gps       lat     long  dep   rad_lng   rad_lat  \\\n",
      "0    route des Ansereuilles   M  50.55737  2.94992  590  0.051486  0.882393   \n",
      "1  Place du g�n�ral de Gaul   M  50.52936  2.93151  590  0.051165  0.881904   \n",
      "2            Rue  nationale   M  50.51243  2.91714  590  0.050914  0.881608   \n",
      "3       30 rue Jules Guesde   M  50.51974  2.89123  590  0.050461  0.881736   \n",
      "4        72 rue Victor Hugo   M  50.51607  2.90605  590  0.050720  0.881672   \n",
      "\n",
      "   cluster  \n",
      "0       -1  \n",
      "1       -1  \n",
      "2       -1  \n",
      "3       -1  \n",
      "4       -1  \n"
     ]
    }
   ],
   "source": [
    "# Create the radian longitude and latitude columns\n",
    "import math\n",
    "\n",
    "fr_acc['rad_lng'] = fr_acc['long'] * math.pi / 180.0\n",
    "fr_acc['rad_lat'] = fr_acc['lat'] * math.pi / 180.0\n",
    "print(fr_acc.head())"
   ]
  },
  {
   "cell_type": "code",
   "execution_count": 43,
   "metadata": {},
   "outputs": [],
   "source": [
    "# Parameters\n",
    "eps_in_meters = 100.0\n",
    "num_samples = 10"
   ]
  },
  {
   "cell_type": "code",
   "execution_count": 44,
   "metadata": {},
   "outputs": [
    {
     "name": "stdout",
     "output_type": "stream",
     "text": [
      "(9.239999999999995, 'seconds')\n"
     ]
    }
   ],
   "source": [
    "# Cluster the data\n",
    "import time\n",
    "from sklearn.cluster import DBSCAN\n",
    "#t_new = time.perf_counter()\n",
    "start_time = time.clock()\n",
    "earth_perimeter = 40070000.0  # In meters\n",
    "eps_in_radians = eps_in_meters / earth_perimeter * (2 * math.pi)\n",
    "\n",
    "fr_acc['cluster'] = DBSCAN(eps=eps_in_radians, min_samples=num_samples, metric='haversine').fit_predict(fr_acc[['rad_lat', 'rad_lng']])\n",
    "\n",
    "elapsed_time = time.clock() - start_time\n",
    "print(elapsed_time, \"seconds\")"
   ]
  },
  {
   "cell_type": "code",
   "execution_count": 45,
   "metadata": {},
   "outputs": [
    {
     "name": "stdout",
     "output_type": "stream",
     "text": [
      "grouping finished\n"
     ]
    }
   ],
   "source": [
    "# Group the observations by cluster identifier\n",
    "groups = fr_acc.groupby('cluster')\n",
    "print(\"grouping finished\")"
   ]
  },
  {
   "cell_type": "code",
   "execution_count": 46,
   "metadata": {},
   "outputs": [
    {
     "name": "stdout",
     "output_type": "stream",
     "text": [
      "(1.4126520156860352, 'seconds')\n",
      "List of cluster blobs created\n"
     ]
    }
   ],
   "source": [
    "# Create the list of cluster blobs\n",
    "from shapely.ops import cascaded_union\n",
    "\n",
    "clusters = list()\n",
    "blobs = list()\n",
    "counts = list()\n",
    "start_time = time.time()\n",
    "for cluster_id, points in groups:\n",
    "#    print(cluster_id)\n",
    "    if cluster_id >= 0:\n",
    "        buffer_radius = eps_in_meters * 0.6\n",
    "        buffers = [buffer_in_meters(lon, lat, buffer_radius) for lon, lat in zip(points['long'], points['lat'])]\n",
    "        blob = cascaded_union(buffers)\n",
    "        blobs.append(blob)\n",
    "        clusters.append(cluster_id)\n",
    "        counts.append(len(points))\n",
    "elapsed_time = time.time() - start_time\n",
    "print(elapsed_time, \"seconds\")\n",
    "print(\"List of cluster blobs created\")"
   ]
  },
  {
   "cell_type": "code",
   "execution_count": 47,
   "metadata": {},
   "outputs": [
    {
     "name": "stdout",
     "output_type": "stream",
     "text": [
      "(0.3999999999999915, 'seconds')\n"
     ]
    },
    {
     "data": {
      "image/png": "[encoded data removed]",
      "text/plain": [
       "<Figure size 432x288 with 1 Axes>"
      ]
     },
     "metadata": {
      "needs_background": "light"
     },
     "output_type": "display_data"
    }
   ],
   "source": [
    "# Create the GeoDataFrame from the cluster numbers and blobs\n",
    "start_time = time.clock()\n",
    "data = { 'cluster': clusters, 'polygon': blobs, 'count': counts }\n",
    "\n",
    "cluster_gdf = gpd.GeoDataFrame(pd.DataFrame(data), geometry='polygon')\n",
    "cluster_gdf.crs = {'init': 'epsg:4326'}\n",
    "\n",
    "ax = cluster_gdf.geometry.plot(linewidth=2.0, color='red', edgecolor='red')\n",
    "elapsed_time = time.clock() - start_time\n",
    "print(elapsed_time, \"seconds\")"
   ]
  },
  {
   "cell_type": "code",
   "execution_count": 48,
   "metadata": {},
   "outputs": [],
   "source": [
    "import mplleaflet\n",
    "mplleaflet.show(fig=ax.figure, tiles='cartodb_positron')"
   ]
  },
  {
   "cell_type": "code",
   "execution_count": null,
   "metadata": {},
   "outputs": [],
   "source": []
  },
  {
   "cell_type": "code",
   "execution_count": null,
   "metadata": {},
   "outputs": [],
   "source": []
  },
  {
   "cell_type": "code",
   "execution_count": null,
   "metadata": {},
   "outputs": [],
   "source": []
  }
 ],
 "metadata": {
  "kernelspec": {
   "display_name": "Python 2",
   "language": "python",
   "name": "python2"
  },
  "language_info": {
   "codemirror_mode": {
    "name": "ipython",
    "version": 2
   },
   "file_extension": ".py",
   "mimetype": "text/x-python",
   "name": "python",
   "nbconvert_exporter": "python",
   "pygments_lexer": "ipython2",
   "version": "2.7.15"
  }
 },
 "nbformat": 4,
 "nbformat_minor": 4
}
